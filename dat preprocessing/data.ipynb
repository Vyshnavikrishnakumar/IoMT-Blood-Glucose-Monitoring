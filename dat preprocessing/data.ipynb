{
 "cells": [
  {
   "cell_type": "code",
   "execution_count": 3,
   "metadata": {},
   "outputs": [],
   "source": [
    "import pandas as pd\n",
    "import xml.etree.ElementTree as ET"
   ]
  },
  {
   "cell_type": "code",
   "execution_count": 4,
   "metadata": {},
   "outputs": [],
   "source": [
    "def parse_xml_to_dataframe(file_path):\n",
    "    # Parse the XML file\n",
    "    tree = ET.parse(file_path)\n",
    "    root = tree.getroot()\n",
    "\n",
    "    # Extract data\n",
    "    data = []\n",
    "    for event in root.find('glucose_level'):\n",
    "        timestamp = event.get('ts')\n",
    "        value = float(event.get('value'))\n",
    "        data.append({'timestamp': timestamp, 'glucose_level': value})\n",
    "    \n",
    "    # Convert to DataFrame\n",
    "    df = pd.DataFrame(data)\n",
    "    df['timestamp'] = pd.to_datetime(df['timestamp'], format='%d-%m-%Y %H:%M:%S')\n",
    "    df = df.set_index('timestamp')\n",
    "    df['glucose_status'] = df['glucose_level'].apply(\n",
    "        lambda x: 'Low' if x < 70 else 'High' if x > 140 else 'Normal'\n",
    "    )\n",
    "    \n",
    "    return df\n",
    "\n",
    "# File paths\n",
    "training_file =r'C:\\Users\\Kumar\\Downloads\\591-ws-training.xml'\n",
    "testing_file = r'C:\\Users\\Kumar\\Downloads\\591-ws-testing.xml'\n",
    "\n",
    "# Preprocess data\n",
    "training_data = parse_xml_to_dataframe(training_file)\n",
    "testing_data = parse_xml_to_dataframe(testing_file)\n",
    "\n",
    "# Save preprocessed data\n",
    "training_data.to_csv('preprocessed_training_datasup.csv')\n",
    "testing_data.to_csv('preprocessed_testing_datasup.csv')"
   ]
  },
  {
   "cell_type": "code",
   "execution_count": 5,
   "metadata": {},
   "outputs": [
    {
     "name": "stdout",
     "output_type": "stream",
     "text": [
      "Training Data Sample:\n",
      "                     glucose_level glucose_status\n",
      "timestamp                                        \n",
      "2021-11-30 17:06:00          160.0           High\n",
      "2021-11-30 17:11:00          158.0           High\n",
      "2021-11-30 17:16:00          160.0           High\n",
      "2021-11-30 17:21:00          166.0           High\n",
      "2021-11-30 17:26:00          175.0           High\n",
      "\n",
      "Testing Data Sample:\n",
      "                     glucose_level glucose_status\n",
      "timestamp                                        \n",
      "2022-01-14 00:03:00          283.0           High\n",
      "2022-01-14 00:08:00          282.0           High\n",
      "2022-01-14 00:13:00          281.0           High\n",
      "2022-01-14 00:18:00          277.0           High\n",
      "2022-01-14 00:23:00          267.0           High\n"
     ]
    }
   ],
   "source": [
    "# Display sample data\n",
    "print(\"Training Data Sample:\")\n",
    "print(training_data.head())\n",
    "\n",
    "\n",
    "print(\"\\nTesting Data Sample:\")\n",
    "print(testing_data.head())"
   ]
  }
 ],
 "metadata": {
  "kernelspec": {
   "display_name": "Python 3",
   "language": "python",
   "name": "python3"
  },
  "language_info": {
   "codemirror_mode": {
    "name": "ipython",
    "version": 3
   },
   "file_extension": ".py",
   "mimetype": "text/x-python",
   "name": "python",
   "nbconvert_exporter": "python",
   "pygments_lexer": "ipython3",
   "version": "3.11.4"
  }
 },
 "nbformat": 4,
 "nbformat_minor": 2
}
